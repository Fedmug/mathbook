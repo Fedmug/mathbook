{
 "cells": [
  {
   "cell_type": "markdown",
   "metadata": {},
   "source": [
    "# Riemann Sums\n",
    "\n",
    "## Partitions\n",
    "\n",
    "A **partition** of an interval $[a, b]$ is a finite set of points $\\mathcal P = \\{x_0, x_1, \\ldots, x_n\\}$ such that \n",
    "\n",
    "$$\n",
    "a = x_0 < x_1 < \\ldots < x_n = b.\n",
    "$$\n",
    "\n",
    "A partition is called **uniform** if the points are equidistant, i.e. \n",
    "\n",
    "$$\n",
    "x_i = a + (b-a) \\frac in, \\quad i = 0, 1, \\ldots, n.\n",
    "$$\n",
    "\n",
    "**Q.** Find uniform paritions of the segment $[-1, 2]$ into $n=1, 2, 3, 4$ subintervals.\n",
    "\n",
    "The **diameter** of a partition is the maximum length of the subintervals, i.e. \n",
    "\n",
    "$$\n",
    "d(\\mathcal P) = \\max_{i=1, \\ldots, n} (x_i - x_{i-1}).\n",
    "$$\n",
    "\n",
    "**Q.** Let $\\mathcal P = \\{x_0, x_1, \\ldots, x_n\\}$ be a partition of the interval $[a, b]$. Is it true that $d(\\mathcal P) \\to 0$ as $n \\to \\infty$? What if $\\mathcal P$ is uniform?"
   ]
  },
  {
   "cell_type": "code",
   "execution_count": 15,
   "metadata": {
    "tags": [
     "remove-input"
    ]
   },
   "outputs": [
    {
     "data": {
      "application/vnd.plotly.v1+json": {
       "config": {
        "plotlyServerURL": "https://plot.ly"
       },
       "data": [
        {
         "line": {
          "color": "black",
          "width": 2
         },
         "mode": "lines",
         "showlegend": false,
         "type": "scatter",
         "visible": true,
         "x": [
          0,
          1
         ],
         "y": [
          0,
          0
         ]
        },
        {
         "marker": {
          "line": {
           "color": "blue",
           "width": 3
          },
          "symbol": "line-ns"
         },
         "mode": "markers",
         "name": "d=1.00",
         "type": "scatter",
         "visible": false,
         "x": [
          0,
          1
         ],
         "y": [
          0,
          0
         ]
        },
        {
         "marker": {
          "line": {
           "color": "blue",
           "width": 3
          },
          "symbol": "line-ns"
         },
         "mode": "markers",
         "name": "d=0.59",
         "type": "scatter",
         "visible": true,
         "x": [
          0,
          0.5867715118801993,
          1
         ],
         "y": [
          0,
          0,
          0
         ]
        },
        {
         "marker": {
          "line": {
           "color": "blue",
           "width": 3
          },
          "symbol": "line-ns"
         },
         "mode": "markers",
         "name": "d=0.82",
         "type": "scatter",
         "visible": false,
         "x": [
          0,
          0.10312846789421803,
          0.18001017339213543,
          1
         ],
         "y": [
          0,
          0,
          0,
          0
         ]
        },
        {
         "marker": {
          "line": {
           "color": "blue",
           "width": 3
          },
          "symbol": "line-ns"
         },
         "mode": "markers",
         "name": "d=0.43",
         "type": "scatter",
         "visible": false,
         "x": [
          0,
          0.15541048047140538,
          0.5891099376877221,
          0.927185951728426,
          1
         ],
         "y": [
          0,
          0,
          0,
          0,
          0
         ]
        },
        {
         "marker": {
          "line": {
           "color": "blue",
           "width": 3
          },
          "symbol": "line-ns"
         },
         "mode": "markers",
         "name": "d=0.47",
         "type": "scatter",
         "visible": false,
         "x": [
          0,
          0.11060618766948627,
          0.20121365808177316,
          0.3302248267229525,
          0.5342002367659695,
          1
         ],
         "y": [
          0,
          0,
          0,
          0,
          0,
          0
         ]
        },
        {
         "marker": {
          "line": {
           "color": "blue",
           "width": 3
          },
          "symbol": "line-ns"
         },
         "mode": "markers",
         "name": "d=0.57",
         "type": "scatter",
         "visible": false,
         "x": [
          0,
          0.00017985527582575767,
          0.06218128942482026,
          0.634810124027948,
          0.7313871564998452,
          0.8358699982515995,
          1
         ],
         "y": [
          0,
          0,
          0,
          0,
          0,
          0,
          0
         ]
        },
        {
         "marker": {
          "line": {
           "color": "blue",
           "width": 3
          },
          "symbol": "line-ns"
         },
         "mode": "markers",
         "name": "d=0.52",
         "type": "scatter",
         "visible": false,
         "x": [
          0,
          0.02202436472415159,
          0.2192129660287634,
          0.2380822154886546,
          0.34021833836684057,
          0.8564539308883732,
          0.9694775271331,
          1
         ],
         "y": [
          0,
          0,
          0,
          0,
          0,
          0,
          0,
          0
         ]
        },
        {
         "marker": {
          "line": {
           "color": "blue",
           "width": 3
          },
          "symbol": "line-ns"
         },
         "mode": "markers",
         "name": "d=0.31",
         "type": "scatter",
         "visible": false,
         "x": [
          0,
          0.15192593373478458,
          0.1947728320470864,
          0.277000294496751,
          0.5832100643172354,
          0.7729030351345656,
          0.8265931041416327,
          0.8778678481576345,
          1
         ],
         "y": [
          0,
          0,
          0,
          0,
          0,
          0,
          0,
          0,
          0
         ]
        },
        {
         "marker": {
          "line": {
           "color": "blue",
           "width": 3
          },
          "symbol": "line-ns"
         },
         "mode": "markers",
         "name": "d=0.55",
         "type": "scatter",
         "visible": false,
         "x": [
          0,
          0.014731523490871146,
          0.015417831898165146,
          0.07212021776232602,
          0.11937883964141727,
          0.2740431140368297,
          0.8280337318435713,
          0.9698205210845006,
          0.9868520814441556,
          1
         ],
         "y": [
          0,
          0,
          0,
          0,
          0,
          0,
          0,
          0,
          0,
          0
         ]
        },
        {
         "marker": {
          "line": {
           "color": "blue",
           "width": 3
          },
          "symbol": "line-ns"
         },
         "mode": "markers",
         "name": "d=0.33",
         "type": "scatter",
         "visible": false,
         "x": [
          0,
          0.031294793570248114,
          0.18726285418487076,
          0.207522469109223,
          0.26238369661230376,
          0.33253819051361,
          0.665932808692309,
          0.7317503192138254,
          0.9629219278230681,
          0.9913725344537896,
          1
         ],
         "y": [
          0,
          0,
          0,
          0,
          0,
          0,
          0,
          0,
          0,
          0,
          0
         ]
        },
        {
         "marker": {
          "line": {
           "color": "blue",
           "width": 3
          },
          "symbol": "line-ns"
         },
         "mode": "markers",
         "name": "d=0.33",
         "type": "scatter",
         "visible": false,
         "x": [
          0,
          0.007093326576058989,
          0.07949900562371814,
          0.1274680554495119,
          0.3624161567358104,
          0.4992169540613345,
          0.5125382293666451,
          0.5561029152418784,
          0.5646714380054384,
          0.566260600215178,
          0.6714184925090702,
          1
         ],
         "y": [
          0,
          0,
          0,
          0,
          0,
          0,
          0,
          0,
          0,
          0,
          0,
          0
         ]
        },
        {
         "marker": {
          "line": {
           "color": "blue",
           "width": 3
          },
          "symbol": "line-ns"
         },
         "mode": "markers",
         "name": "d=0.25",
         "type": "scatter",
         "visible": false,
         "x": [
          0,
          0.08499798008282355,
          0.10219545999335078,
          0.2056260449061369,
          0.23583731852846646,
          0.48705674563552703,
          0.5305878744826157,
          0.534399154653975,
          0.6038173233906192,
          0.7848258404125088,
          0.7988812830431636,
          0.8663448993833749,
          1
         ],
         "y": [
          0,
          0,
          0,
          0,
          0,
          0,
          0,
          0,
          0,
          0,
          0,
          0,
          0
         ]
        },
        {
         "marker": {
          "line": {
           "color": "blue",
           "width": 3
          },
          "symbol": "line-ns"
         },
         "mode": "markers",
         "name": "d=0.36",
         "type": "scatter",
         "visible": false,
         "x": [
          0,
          0.037166807157296367,
          0.07830245464360008,
          0.09875806767942896,
          0.10639769471833416,
          0.13294539541772266,
          0.18138717363689405,
          0.22910911626157937,
          0.5869225784741086,
          0.592541693820611,
          0.6614024392270064,
          0.6616877667457601,
          0.7986722441057125,
          1
         ],
         "y": [
          0,
          0,
          0,
          0,
          0,
          0,
          0,
          0,
          0,
          0,
          0,
          0,
          0,
          0
         ]
        },
        {
         "marker": {
          "line": {
           "color": "blue",
           "width": 3
          },
          "symbol": "line-ns"
         },
         "mode": "markers",
         "name": "d=0.21",
         "type": "scatter",
         "visible": false,
         "x": [
          0,
          0.04335281978815442,
          0.05615335544866362,
          0.18249137836229523,
          0.2497465499031194,
          0.25314504724542297,
          0.2732587055831741,
          0.4510750976048157,
          0.4518713955336532,
          0.5369746695005926,
          0.5389778885604236,
          0.5768408583220338,
          0.7200471579739478,
          0.9305870787763958,
          1
         ],
         "y": [
          0,
          0,
          0,
          0,
          0,
          0,
          0,
          0,
          0,
          0,
          0,
          0,
          0,
          0,
          0
         ]
        }
       ],
       "layout": {
        "height": 300,
        "margin": {
         "b": 40,
         "l": 40,
         "r": 40,
         "t": 40
        },
        "sliders": [
         {
          "active": 2,
          "currentvalue": {
           "prefix": "n="
          },
          "pad": {
           "t": 50
          },
          "steps": [
           {
            "args": [
             {
              "visible": [
               true,
               true,
               false,
               false,
               false,
               false,
               false,
               false,
               false,
               false,
               false,
               false,
               false,
               false,
               false
              ]
             }
            ],
            "label": "1",
            "method": "update"
           },
           {
            "args": [
             {
              "visible": [
               true,
               false,
               true,
               false,
               false,
               false,
               false,
               false,
               false,
               false,
               false,
               false,
               false,
               false,
               false
              ]
             }
            ],
            "label": "2",
            "method": "update"
           },
           {
            "args": [
             {
              "visible": [
               true,
               false,
               false,
               true,
               false,
               false,
               false,
               false,
               false,
               false,
               false,
               false,
               false,
               false,
               false
              ]
             }
            ],
            "label": "3",
            "method": "update"
           },
           {
            "args": [
             {
              "visible": [
               true,
               false,
               false,
               false,
               true,
               false,
               false,
               false,
               false,
               false,
               false,
               false,
               false,
               false,
               false
              ]
             }
            ],
            "label": "4",
            "method": "update"
           },
           {
            "args": [
             {
              "visible": [
               true,
               false,
               false,
               false,
               false,
               true,
               false,
               false,
               false,
               false,
               false,
               false,
               false,
               false,
               false
              ]
             }
            ],
            "label": "5",
            "method": "update"
           },
           {
            "args": [
             {
              "visible": [
               true,
               false,
               false,
               false,
               false,
               false,
               true,
               false,
               false,
               false,
               false,
               false,
               false,
               false,
               false
              ]
             }
            ],
            "label": "6",
            "method": "update"
           },
           {
            "args": [
             {
              "visible": [
               true,
               false,
               false,
               false,
               false,
               false,
               false,
               true,
               false,
               false,
               false,
               false,
               false,
               false,
               false
              ]
             }
            ],
            "label": "7",
            "method": "update"
           },
           {
            "args": [
             {
              "visible": [
               true,
               false,
               false,
               false,
               false,
               false,
               false,
               false,
               true,
               false,
               false,
               false,
               false,
               false,
               false
              ]
             }
            ],
            "label": "8",
            "method": "update"
           },
           {
            "args": [
             {
              "visible": [
               true,
               false,
               false,
               false,
               false,
               false,
               false,
               false,
               false,
               true,
               false,
               false,
               false,
               false,
               false
              ]
             }
            ],
            "label": "9",
            "method": "update"
           },
           {
            "args": [
             {
              "visible": [
               true,
               false,
               false,
               false,
               false,
               false,
               false,
               false,
               false,
               false,
               true,
               false,
               false,
               false,
               false
              ]
             }
            ],
            "label": "10",
            "method": "update"
           },
           {
            "args": [
             {
              "visible": [
               true,
               false,
               false,
               false,
               false,
               false,
               false,
               false,
               false,
               false,
               false,
               true,
               false,
               false,
               false
              ]
             }
            ],
            "label": "11",
            "method": "update"
           },
           {
            "args": [
             {
              "visible": [
               true,
               false,
               false,
               false,
               false,
               false,
               false,
               false,
               false,
               false,
               false,
               false,
               true,
               false,
               false
              ]
             }
            ],
            "label": "12",
            "method": "update"
           },
           {
            "args": [
             {
              "visible": [
               true,
               false,
               false,
               false,
               false,
               false,
               false,
               false,
               false,
               false,
               false,
               false,
               false,
               true,
               false
              ]
             }
            ],
            "label": "13",
            "method": "update"
           },
           {
            "args": [
             {
              "visible": [
               true,
               false,
               false,
               false,
               false,
               false,
               false,
               false,
               false,
               false,
               false,
               false,
               false,
               false,
               true
              ]
             }
            ],
            "label": "14",
            "method": "update"
           }
          ]
         }
        ],
        "template": {
         "data": {
          "bar": [
           {
            "error_x": {
             "color": "#2a3f5f"
            },
            "error_y": {
             "color": "#2a3f5f"
            },
            "marker": {
             "line": {
              "color": "#E5ECF6",
              "width": 0.5
             },
             "pattern": {
              "fillmode": "overlay",
              "size": 10,
              "solidity": 0.2
             }
            },
            "type": "bar"
           }
          ],
          "barpolar": [
           {
            "marker": {
             "line": {
              "color": "#E5ECF6",
              "width": 0.5
             },
             "pattern": {
              "fillmode": "overlay",
              "size": 10,
              "solidity": 0.2
             }
            },
            "type": "barpolar"
           }
          ],
          "carpet": [
           {
            "aaxis": {
             "endlinecolor": "#2a3f5f",
             "gridcolor": "white",
             "linecolor": "white",
             "minorgridcolor": "white",
             "startlinecolor": "#2a3f5f"
            },
            "baxis": {
             "endlinecolor": "#2a3f5f",
             "gridcolor": "white",
             "linecolor": "white",
             "minorgridcolor": "white",
             "startlinecolor": "#2a3f5f"
            },
            "type": "carpet"
           }
          ],
          "choropleth": [
           {
            "colorbar": {
             "outlinewidth": 0,
             "ticks": ""
            },
            "type": "choropleth"
           }
          ],
          "contour": [
           {
            "colorbar": {
             "outlinewidth": 0,
             "ticks": ""
            },
            "colorscale": [
             [
              0,
              "#0d0887"
             ],
             [
              0.1111111111111111,
              "#46039f"
             ],
             [
              0.2222222222222222,
              "#7201a8"
             ],
             [
              0.3333333333333333,
              "#9c179e"
             ],
             [
              0.4444444444444444,
              "#bd3786"
             ],
             [
              0.5555555555555556,
              "#d8576b"
             ],
             [
              0.6666666666666666,
              "#ed7953"
             ],
             [
              0.7777777777777778,
              "#fb9f3a"
             ],
             [
              0.8888888888888888,
              "#fdca26"
             ],
             [
              1,
              "#f0f921"
             ]
            ],
            "type": "contour"
           }
          ],
          "contourcarpet": [
           {
            "colorbar": {
             "outlinewidth": 0,
             "ticks": ""
            },
            "type": "contourcarpet"
           }
          ],
          "heatmap": [
           {
            "colorbar": {
             "outlinewidth": 0,
             "ticks": ""
            },
            "colorscale": [
             [
              0,
              "#0d0887"
             ],
             [
              0.1111111111111111,
              "#46039f"
             ],
             [
              0.2222222222222222,
              "#7201a8"
             ],
             [
              0.3333333333333333,
              "#9c179e"
             ],
             [
              0.4444444444444444,
              "#bd3786"
             ],
             [
              0.5555555555555556,
              "#d8576b"
             ],
             [
              0.6666666666666666,
              "#ed7953"
             ],
             [
              0.7777777777777778,
              "#fb9f3a"
             ],
             [
              0.8888888888888888,
              "#fdca26"
             ],
             [
              1,
              "#f0f921"
             ]
            ],
            "type": "heatmap"
           }
          ],
          "heatmapgl": [
           {
            "colorbar": {
             "outlinewidth": 0,
             "ticks": ""
            },
            "colorscale": [
             [
              0,
              "#0d0887"
             ],
             [
              0.1111111111111111,
              "#46039f"
             ],
             [
              0.2222222222222222,
              "#7201a8"
             ],
             [
              0.3333333333333333,
              "#9c179e"
             ],
             [
              0.4444444444444444,
              "#bd3786"
             ],
             [
              0.5555555555555556,
              "#d8576b"
             ],
             [
              0.6666666666666666,
              "#ed7953"
             ],
             [
              0.7777777777777778,
              "#fb9f3a"
             ],
             [
              0.8888888888888888,
              "#fdca26"
             ],
             [
              1,
              "#f0f921"
             ]
            ],
            "type": "heatmapgl"
           }
          ],
          "histogram": [
           {
            "marker": {
             "pattern": {
              "fillmode": "overlay",
              "size": 10,
              "solidity": 0.2
             }
            },
            "type": "histogram"
           }
          ],
          "histogram2d": [
           {
            "colorbar": {
             "outlinewidth": 0,
             "ticks": ""
            },
            "colorscale": [
             [
              0,
              "#0d0887"
             ],
             [
              0.1111111111111111,
              "#46039f"
             ],
             [
              0.2222222222222222,
              "#7201a8"
             ],
             [
              0.3333333333333333,
              "#9c179e"
             ],
             [
              0.4444444444444444,
              "#bd3786"
             ],
             [
              0.5555555555555556,
              "#d8576b"
             ],
             [
              0.6666666666666666,
              "#ed7953"
             ],
             [
              0.7777777777777778,
              "#fb9f3a"
             ],
             [
              0.8888888888888888,
              "#fdca26"
             ],
             [
              1,
              "#f0f921"
             ]
            ],
            "type": "histogram2d"
           }
          ],
          "histogram2dcontour": [
           {
            "colorbar": {
             "outlinewidth": 0,
             "ticks": ""
            },
            "colorscale": [
             [
              0,
              "#0d0887"
             ],
             [
              0.1111111111111111,
              "#46039f"
             ],
             [
              0.2222222222222222,
              "#7201a8"
             ],
             [
              0.3333333333333333,
              "#9c179e"
             ],
             [
              0.4444444444444444,
              "#bd3786"
             ],
             [
              0.5555555555555556,
              "#d8576b"
             ],
             [
              0.6666666666666666,
              "#ed7953"
             ],
             [
              0.7777777777777778,
              "#fb9f3a"
             ],
             [
              0.8888888888888888,
              "#fdca26"
             ],
             [
              1,
              "#f0f921"
             ]
            ],
            "type": "histogram2dcontour"
           }
          ],
          "mesh3d": [
           {
            "colorbar": {
             "outlinewidth": 0,
             "ticks": ""
            },
            "type": "mesh3d"
           }
          ],
          "parcoords": [
           {
            "line": {
             "colorbar": {
              "outlinewidth": 0,
              "ticks": ""
             }
            },
            "type": "parcoords"
           }
          ],
          "pie": [
           {
            "automargin": true,
            "type": "pie"
           }
          ],
          "scatter": [
           {
            "fillpattern": {
             "fillmode": "overlay",
             "size": 10,
             "solidity": 0.2
            },
            "type": "scatter"
           }
          ],
          "scatter3d": [
           {
            "line": {
             "colorbar": {
              "outlinewidth": 0,
              "ticks": ""
             }
            },
            "marker": {
             "colorbar": {
              "outlinewidth": 0,
              "ticks": ""
             }
            },
            "type": "scatter3d"
           }
          ],
          "scattercarpet": [
           {
            "marker": {
             "colorbar": {
              "outlinewidth": 0,
              "ticks": ""
             }
            },
            "type": "scattercarpet"
           }
          ],
          "scattergeo": [
           {
            "marker": {
             "colorbar": {
              "outlinewidth": 0,
              "ticks": ""
             }
            },
            "type": "scattergeo"
           }
          ],
          "scattergl": [
           {
            "marker": {
             "colorbar": {
              "outlinewidth": 0,
              "ticks": ""
             }
            },
            "type": "scattergl"
           }
          ],
          "scattermapbox": [
           {
            "marker": {
             "colorbar": {
              "outlinewidth": 0,
              "ticks": ""
             }
            },
            "type": "scattermapbox"
           }
          ],
          "scatterpolar": [
           {
            "marker": {
             "colorbar": {
              "outlinewidth": 0,
              "ticks": ""
             }
            },
            "type": "scatterpolar"
           }
          ],
          "scatterpolargl": [
           {
            "marker": {
             "colorbar": {
              "outlinewidth": 0,
              "ticks": ""
             }
            },
            "type": "scatterpolargl"
           }
          ],
          "scatterternary": [
           {
            "marker": {
             "colorbar": {
              "outlinewidth": 0,
              "ticks": ""
             }
            },
            "type": "scatterternary"
           }
          ],
          "surface": [
           {
            "colorbar": {
             "outlinewidth": 0,
             "ticks": ""
            },
            "colorscale": [
             [
              0,
              "#0d0887"
             ],
             [
              0.1111111111111111,
              "#46039f"
             ],
             [
              0.2222222222222222,
              "#7201a8"
             ],
             [
              0.3333333333333333,
              "#9c179e"
             ],
             [
              0.4444444444444444,
              "#bd3786"
             ],
             [
              0.5555555555555556,
              "#d8576b"
             ],
             [
              0.6666666666666666,
              "#ed7953"
             ],
             [
              0.7777777777777778,
              "#fb9f3a"
             ],
             [
              0.8888888888888888,
              "#fdca26"
             ],
             [
              1,
              "#f0f921"
             ]
            ],
            "type": "surface"
           }
          ],
          "table": [
           {
            "cells": {
             "fill": {
              "color": "#EBF0F8"
             },
             "line": {
              "color": "white"
             }
            },
            "header": {
             "fill": {
              "color": "#C8D4E3"
             },
             "line": {
              "color": "white"
             }
            },
            "type": "table"
           }
          ]
         },
         "layout": {
          "annotationdefaults": {
           "arrowcolor": "#2a3f5f",
           "arrowhead": 0,
           "arrowwidth": 1
          },
          "autotypenumbers": "strict",
          "coloraxis": {
           "colorbar": {
            "outlinewidth": 0,
            "ticks": ""
           }
          },
          "colorscale": {
           "diverging": [
            [
             0,
             "#8e0152"
            ],
            [
             0.1,
             "#c51b7d"
            ],
            [
             0.2,
             "#de77ae"
            ],
            [
             0.3,
             "#f1b6da"
            ],
            [
             0.4,
             "#fde0ef"
            ],
            [
             0.5,
             "#f7f7f7"
            ],
            [
             0.6,
             "#e6f5d0"
            ],
            [
             0.7,
             "#b8e186"
            ],
            [
             0.8,
             "#7fbc41"
            ],
            [
             0.9,
             "#4d9221"
            ],
            [
             1,
             "#276419"
            ]
           ],
           "sequential": [
            [
             0,
             "#0d0887"
            ],
            [
             0.1111111111111111,
             "#46039f"
            ],
            [
             0.2222222222222222,
             "#7201a8"
            ],
            [
             0.3333333333333333,
             "#9c179e"
            ],
            [
             0.4444444444444444,
             "#bd3786"
            ],
            [
             0.5555555555555556,
             "#d8576b"
            ],
            [
             0.6666666666666666,
             "#ed7953"
            ],
            [
             0.7777777777777778,
             "#fb9f3a"
            ],
            [
             0.8888888888888888,
             "#fdca26"
            ],
            [
             1,
             "#f0f921"
            ]
           ],
           "sequentialminus": [
            [
             0,
             "#0d0887"
            ],
            [
             0.1111111111111111,
             "#46039f"
            ],
            [
             0.2222222222222222,
             "#7201a8"
            ],
            [
             0.3333333333333333,
             "#9c179e"
            ],
            [
             0.4444444444444444,
             "#bd3786"
            ],
            [
             0.5555555555555556,
             "#d8576b"
            ],
            [
             0.6666666666666666,
             "#ed7953"
            ],
            [
             0.7777777777777778,
             "#fb9f3a"
            ],
            [
             0.8888888888888888,
             "#fdca26"
            ],
            [
             1,
             "#f0f921"
            ]
           ]
          },
          "colorway": [
           "#636efa",
           "#EF553B",
           "#00cc96",
           "#ab63fa",
           "#FFA15A",
           "#19d3f3",
           "#FF6692",
           "#B6E880",
           "#FF97FF",
           "#FECB52"
          ],
          "font": {
           "color": "#2a3f5f"
          },
          "geo": {
           "bgcolor": "white",
           "lakecolor": "white",
           "landcolor": "#E5ECF6",
           "showlakes": true,
           "showland": true,
           "subunitcolor": "white"
          },
          "hoverlabel": {
           "align": "left"
          },
          "hovermode": "closest",
          "mapbox": {
           "style": "light"
          },
          "paper_bgcolor": "white",
          "plot_bgcolor": "#E5ECF6",
          "polar": {
           "angularaxis": {
            "gridcolor": "white",
            "linecolor": "white",
            "ticks": ""
           },
           "bgcolor": "#E5ECF6",
           "radialaxis": {
            "gridcolor": "white",
            "linecolor": "white",
            "ticks": ""
           }
          },
          "scene": {
           "xaxis": {
            "backgroundcolor": "#E5ECF6",
            "gridcolor": "white",
            "gridwidth": 2,
            "linecolor": "white",
            "showbackground": true,
            "ticks": "",
            "zerolinecolor": "white"
           },
           "yaxis": {
            "backgroundcolor": "#E5ECF6",
            "gridcolor": "white",
            "gridwidth": 2,
            "linecolor": "white",
            "showbackground": true,
            "ticks": "",
            "zerolinecolor": "white"
           },
           "zaxis": {
            "backgroundcolor": "#E5ECF6",
            "gridcolor": "white",
            "gridwidth": 2,
            "linecolor": "white",
            "showbackground": true,
            "ticks": "",
            "zerolinecolor": "white"
           }
          },
          "shapedefaults": {
           "line": {
            "color": "#2a3f5f"
           }
          },
          "ternary": {
           "aaxis": {
            "gridcolor": "white",
            "linecolor": "white",
            "ticks": ""
           },
           "baxis": {
            "gridcolor": "white",
            "linecolor": "white",
            "ticks": ""
           },
           "bgcolor": "#E5ECF6",
           "caxis": {
            "gridcolor": "white",
            "linecolor": "white",
            "ticks": ""
           }
          },
          "title": {
           "x": 0.05
          },
          "xaxis": {
           "automargin": true,
           "gridcolor": "white",
           "linecolor": "white",
           "ticks": "",
           "title": {
            "standoff": 15
           },
           "zerolinecolor": "white",
           "zerolinewidth": 2
          },
          "yaxis": {
           "automargin": true,
           "gridcolor": "white",
           "linecolor": "white",
           "ticks": "",
           "title": {
            "standoff": 15
           },
           "zerolinecolor": "white",
           "zerolinewidth": 2
          }
         }
        },
        "title": {
         "text": "Random partitions of [0,1]",
         "x": 0.5
        },
        "xaxis": {
         "dtick": 0.1,
         "range": [
          -0.09,
          1.09
         ],
         "tick0": 0,
         "tickmode": "linear"
        },
        "yaxis": {
         "range": [
          -0.3,
          0.3
         ],
         "showticklabels": false
        }
       }
      }
     },
     "metadata": {},
     "output_type": "display_data"
    }
   ],
   "source": [
    "import plotly.graph_objects as go\n",
    "import numpy as np\n",
    "\n",
    "def plot_slider_partition(n_min=1, n_max=20, write_html=False):\n",
    "    fig = go.Figure()\n",
    "    fig.add_trace(go.Scatter(\n",
    "        x=[0, 1],\n",
    "        y=[0, 0],\n",
    "        mode='lines',\n",
    "        line=dict(color='black', width=2),\n",
    "        showlegend=False\n",
    "    ))\n",
    "\n",
    "    points = []\n",
    "    diameters = []\n",
    "    for n in range(n_min, n_max + 1):\n",
    "        array = np.zeros(n + 1)\n",
    "        array[-1] = 1.0\n",
    "        array[1:n] = np.sort(np.random.rand(n - 1))\n",
    "        points.append(array)\n",
    "        diameters.append(np.max(np.diff(array)))\n",
    "    for i, n in enumerate(range(n_min, n_max + 1)):\n",
    "        fig.add_trace(\n",
    "            go.Scatter(\n",
    "                x=points[i],\n",
    "                y=[0] * len(points[i]),\n",
    "                mode='markers',\n",
    "                marker_symbol='line-ns',\n",
    "                marker_line_width=3,\n",
    "                marker_line_color='blue',\n",
    "                # showlegend=False,\n",
    "                name=f\"d={diameters[i]:.2f}\",\n",
    "                visible=False,\n",
    "            )\n",
    "        )\n",
    "\n",
    "    fig.update_layout(title={\"text\": r\"Random partitions of [0,1]\", \"x\": 0.5},\n",
    "                      xaxis=dict(range=[-0.09, 1.09], tickmode='linear', tick0=0, dtick=0.1),\n",
    "                      yaxis=dict(range=[-0.3, 0.3], showticklabels=False),\n",
    "                      height=300,\n",
    "                      margin=dict(l=40, r=40, t=40, b=40))\n",
    "    \n",
    "    fig.data[2].visible = True\n",
    "    fig.data[0].visible = True\n",
    "\n",
    "    # Create and add slider\n",
    "    steps = []\n",
    "    for i in range(1, len(fig.data)):\n",
    "        p_step = dict(\n",
    "            method=\"update\",\n",
    "            args=[{\"visible\": [False] * len(fig.data)}],  # layout attribute\n",
    "            label=round(i)\n",
    "        )\n",
    "        p_step[\"args\"][0][\"visible\"][i] = True  # Toggle i'th trace to \"visible\"\n",
    "        p_step[\"args\"][0][\"visible\"][0] = True\n",
    "        steps.append(p_step)\n",
    "\n",
    "    sliders = [dict(\n",
    "        active=2,\n",
    "        pad={\"t\": 50},\n",
    "        currentvalue={\"prefix\": r\"n=\"}, \n",
    "        steps=steps\n",
    "    )]\n",
    "        \n",
    "    fig.update_layout(\n",
    "        sliders=sliders,\n",
    "    )\n",
    "    if write_html:\n",
    "        fig.write_html(\"slider_binomial.html\", full_html=False, include_plotlyjs='cdn', include_mathjax='cdn')\n",
    "    fig.show()\n",
    "\n",
    "plot_slider_partition(n_max=14)"
   ]
  },
  {
   "cell_type": "markdown",
   "metadata": {},
   "source": [
    "## Riemann Sums\n",
    "\n",
    "\n",
    "Let $f(x)$ be a continuous function on $[a, b]$ and $\\mathcal P = \\{x_0, x_1, \\ldots, x_n\\}$ be a partition of the interval $[a, b]$ into $n$ subintervals. Let $\\xi_i \\in [x_{i-1}, x_i]$ be an arbitrary point. A **Riemann sum** of $f$ over $\\mathcal P$ is a sum of the form\n",
    "\n",
    "```{math}\n",
    ":label: riemann-sum-formula\n",
    "S(f, \\mathcal P, \\boldsymbol \\xi) = \\sum_{i=1}^n f(\\xi_i) (x_i - x_{i-1}),\n",
    "```\n",
    "\n",
    "Note that Riemann sums depend on: \n",
    "* function $f$;\n",
    "* partition $\\mathcal P$;\n",
    "* **sample** points $\\boldsymbol \\xi = (\\xi_1, \\ldots, \\xi_n)$.\n",
    "\n",
    "**Q.** Find the Riemann sum of a constant function $f(x) \\equiv C$.\n",
    "\n",
    "Most often the sample points $\\boldsymbol \\xi$ in the [Riemann sum](#riemann-sum-formula) are chosen as follows:\n",
    "\n",
    "* $\\xi_i = x_{i-1}$ for the **left Riemann sum**;\n",
    "* $\\xi_i = x_i$ for the **right Riemann sum**;\n",
    "* $\\xi_i = \\frac{x_{i-1} + x_i}{2}$ for the **midpoint Riemann sum**.\n",
    "\n",
    "Riemann sums are used to approximate the area under the curve $y = f(x)$ over the interval $[a, b]$. Each summand in [](#riemann-sum-formula) represents the area of a rectangle with width $x_{i} - x_{i-1}$ and height $f(\\xi_i)$.\n",
    "\n",
    "```{admonition} Left and right Riemann sums for $f(x)=x^2$\n",
    ":class: tip\n",
    "See figures 5, 6 in [@anton2012calculus, p. 373].\n",
    "```"
   ]
  },
  {
   "cell_type": "markdown",
   "metadata": {},
   "source": [
    "## Darboux sums\n",
    "\n",
    "The **lower/upper Darboux sums** of $f\\in C[a,b]$ over partition $\\mathcal P$ are defined as\n",
    "\n",
    "$$\n",
    "L(f, \\mathcal P) = \\sum_{i=1}^n m_i (x_i - x_{i-1}), \\quad\n",
    "U(f, \\mathcal P) = \\sum_{i=1}^n M_i (x_i - x_{i-1}),\n",
    "$$\n",
    "\n",
    "where\n",
    "\n",
    "$$\n",
    "m_i = \\min\\limits_{[x_{i-1}, x_i]} f(x), \\quad\n",
    "M_i = \\max\\limits_{[x_{i-1}, x_i]} f(x).\n",
    "$$\n",
    "\n",
    "Due to the Extreme Value Theorem, for any subinterval $[x_{i-1}, x_i]$ there exist $\\xi_i^+, \\xi_i^- \\in [x_{i-1}, x_i]$ such that \n",
    "\n",
    "$$\n",
    "f(\\xi_i^-) = m_i, \\quad f(\\xi_i^+) = M_i.\n",
    "$$\n",
    "\n",
    "Hence, Darboux sums are special cases of Riemann sums.\n",
    "\n",
    "```{admonition} Example of lower and upper Darboux sums\n",
    ":class: tip\n",
    "See figure 14 in [@anton2012calculus, p. 377].\n",
    "```\n",
    "\n",
    "Geometrically, the lower Darboux sum is the sum of the areas of the rectangles inscribed in the graph of $f$, while the upper Darboux sum is the sum of the areas of the rectangles circumscribing the graph of $f$.\n",
    "\n",
    "Note that \n",
    "\n",
    "- the lower (upper) Darboux sum equals to the left (right) Riemann sum if the function $f$ is increasing\n",
    "- the lower (upper) Darboux sum equals to the right (left) Riemann sum if the function $f$ is decreasing"
   ]
  },
  {
   "cell_type": "markdown",
   "metadata": {},
   "source": [
    "## Exercises\n",
    "\n",
    "1. Build a partition $\\mathcal P = \\{x_0, x_1, \\ldots, x_n\\}$ of the segment $[a, b]$ such that its points form a geometric progression.\n",
    "\n",
    "2. Find left, right and midpoint Riemann sums for the function $f(x) = x$ over the interval $[-1, 1]$.\n",
    "\n",
    "3. Find the lower and upper Darboux sums for Dirichlet function $f(x) = \\begin{cases} 1, & x \\in \\mathbb{Q}, \\\\ 0, & x \\notin \\mathbb{Q}. \\end{cases}$"
   ]
  }
 ],
 "metadata": {
  "kernelspec": {
   "display_name": "Python 3",
   "language": "python",
   "name": "python3"
  },
  "language_info": {
   "codemirror_mode": {
    "name": "ipython",
    "version": 3
   },
   "file_extension": ".py",
   "mimetype": "text/x-python",
   "name": "python",
   "nbconvert_exporter": "python",
   "pygments_lexer": "ipython3",
   "version": "3.12.4"
  }
 },
 "nbformat": 4,
 "nbformat_minor": 2
}
